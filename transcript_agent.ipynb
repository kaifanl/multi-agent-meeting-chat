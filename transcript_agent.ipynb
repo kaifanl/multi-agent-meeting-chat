{
 "cells": [
  {
   "cell_type": "code",
   "execution_count": 1,
   "metadata": {},
   "outputs": [
    {
     "name": "stderr",
     "output_type": "stream",
     "text": [
      "/ssd1/yujunqiu/anaconda3/envs/py39/lib/python3.9/site-packages/tqdm/auto.py:21: TqdmWarning: IProgress not found. Please update jupyter and ipywidgets. See https://ipywidgets.readthedocs.io/en/stable/user_install.html\n",
      "  from .autonotebook import tqdm as notebook_tqdm\n"
     ]
    }
   ],
   "source": [
    "import librosa\n",
    "import noisereduce as nr\n",
    "from pydub import AudioSegment\n",
    "from faster_whisper import WhisperModel\n",
    "from pyannote.audio import Pipeline\n",
    "import tempfile\n",
    "import os\n",
    "\n",
    "\n",
    "whisper_model = WhisperModel(\"/ssd1/yujunqiu/model_zoo/Systran/faster-whisper-large-v2\", device=\"cuda\")"
   ]
  },
  {
   "cell_type": "code",
   "execution_count": 2,
   "metadata": {},
   "outputs": [
    {
     "ename": "",
     "evalue": "",
     "output_type": "error",
     "traceback": [
      "\u001b[1;31mThe Kernel crashed while executing code in the current cell or a previous cell. \n",
      "\u001b[1;31mPlease review the code in the cell(s) to identify a possible cause of the failure. \n",
      "\u001b[1;31mClick <a href='https://aka.ms/vscodeJupyterKernelCrash'>here</a> for more info. \n",
      "\u001b[1;31mView Jupyter <a href='command:jupyter.viewOutput'>log</a> for further details."
     ]
    }
   ],
   "source": [
    "audio_path = \"/tmp/tmpjol9m22n.wav\"\n",
    "result = whisper_model.transcribe(audio_path)"
   ]
  },
  {
   "cell_type": "code",
   "execution_count": null,
   "metadata": {},
   "outputs": [],
   "source": []
  },
  {
   "cell_type": "code",
   "execution_count": null,
   "metadata": {},
   "outputs": [],
   "source": []
  },
  {
   "cell_type": "code",
   "execution_count": null,
   "metadata": {},
   "outputs": [],
   "source": []
  },
  {
   "cell_type": "code",
   "execution_count": null,
   "metadata": {},
   "outputs": [],
   "source": []
  },
  {
   "cell_type": "code",
   "execution_count": 2,
   "metadata": {},
   "outputs": [],
   "source": [
    "class AudioProcessingAgent:\n",
    "    def __init__(self,\n",
    "                 vad_model: str = \"pyannote/voice-activity-detection\",\n",
    "                 diarization_model: str = \"pyannote/speaker-diarization\",\n",
    "                 whisper_model: str = \"/ssd1/yujunqiu/model_zoo/Systran/faster-whisper-large-v2\",\n",
    "                 whisper_device: str = \"cuda\"):\n",
    "        self.vad_pipeline = Pipeline.from_pretrained(vad_model)\n",
    "        self.diarization_pipeline = Pipeline.from_pretrained(diarization_model)\n",
    "        self.whisper_model = WhisperModel(whisper_model, device=whisper_device)\n",
    "\n",
    "    def preprocess_audio(self, input_path: str, target_sr: int = 16000) -> str:\n",
    "        y, sr = librosa.load(input_path, sr=target_sr)\n",
    "        y_denoised = nr.reduce_noise(y=y, sr=sr)\n",
    "        temp_wav = tempfile.mktemp(suffix=\".wav\")\n",
    "        audio = AudioSegment(\n",
    "            y_denoised.tobytes(),\n",
    "            frame_rate=sr,\n",
    "            sample_width=2,\n",
    "            channels=1\n",
    "        )\n",
    "        audio.export(temp_wav, format=\"wav\")\n",
    "        return temp_wav\n",
    "\n",
    "    def segment_audio(self, audio_path: str, merge_threshold: float = 0.5) -> list:\n",
    "        vad_results = self.vad_pipeline(audio_path)\n",
    "        segments = []\n",
    "        current_start = None\n",
    "        for speech in vad_results.get_timeline().support():\n",
    "            if current_start is None:\n",
    "                current_start = speech.start\n",
    "                current_end = speech.end\n",
    "            elif speech.start - current_end < merge_threshold:\n",
    "                current_end = speech.end\n",
    "            else:\n",
    "                segments.append((current_start, current_end))\n",
    "                current_start = speech.start\n",
    "                current_end = speech.end\n",
    "        if current_start is not None:\n",
    "            segments.append((current_start, current_end))\n",
    "        return segments\n",
    "\n",
    "    def detect_language(self, audio_path: str) -> tuple:\n",
    "        _, info = self.whisper_model.transcribe(audio_path, beam_size=5)\n",
    "        return info.language, info.language_probability\n",
    "\n",
    "    def speaker_diarization(self, audio_path: str) -> list:\n",
    "        diarization = self.diarization_pipeline(audio_path)\n",
    "        speaker_segments = []\n",
    "        for turn, _, speaker in diarization.itertracks(yield_label=True):\n",
    "            speaker_segments.append({\n",
    "                \"start\": turn.start,\n",
    "                \"end\": turn.end,\n",
    "                \"speaker\": speaker\n",
    "            })\n",
    "        return speaker_segments\n",
    "\n",
    "    def transcribe_segments(self, audio_path: str, segments: list) -> list:\n",
    "        full_audio = AudioSegment.from_wav(audio_path)\n",
    "        results = []\n",
    "        for idx, (start, end) in enumerate(segments):\n",
    "            chunk = full_audio[start * 1000:end * 1000]\n",
    "            temp_chunk = tempfile.mktemp(suffix=\".wav\")\n",
    "            chunk.export(temp_chunk, format=\"wav\")\n",
    "            segment_text = \"\"\n",
    "            for seg, _ in self.whisper_model.transcribe(temp_chunk):\n",
    "                segment_text += seg.text + \" \"\n",
    "            results.append({\n",
    "                \"start\": start,\n",
    "                \"end\": end,\n",
    "                \"text\": segment_text.strip()\n",
    "            })\n",
    "        return results\n",
    "\n",
    "    def process_audio(self, input_path: str) -> dict:\n",
    "        \"\"\"\n",
    "        整体流程：预处理 → 分段 → 转录 → 说话人 → 语言识别\n",
    "        \"\"\"\n",
    "        print(\"Step 1: 预处理音频...\")\n",
    "        clean_wav = self.preprocess_audio(input_path)\n",
    "\n",
    "        print(\"Step 2: 语音活动检测 + 动态分片...\")\n",
    "        segments = self.segment_audio(clean_wav)\n",
    "\n",
    "        print(\"Step 3: 分段转录...\")\n",
    "        transcription = self.transcribe_segments(clean_wav, segments)\n",
    "\n",
    "        print(\"Step 4: 说话人识别...\")\n",
    "        speakers = self.speaker_diarization(clean_wav)\n",
    "\n",
    "        print(\"Step 5: 语言检测...\")\n",
    "        language, prob = self.detect_language(clean_wav)\n",
    "\n",
    "        return {\n",
    "            \"segments\": segments,\n",
    "            \"transcription\": transcription,\n",
    "            \"speaker_diarization\": speakers,\n",
    "            \"language\": language,\n",
    "            \"language_confidence\": prob\n",
    "        }\n"
   ]
  },
  {
   "cell_type": "code",
   "execution_count": 3,
   "metadata": {},
   "outputs": [],
   "source": [
    "agent = AudioProcessingAgent()"
   ]
  },
  {
   "cell_type": "code",
   "execution_count": null,
   "metadata": {},
   "outputs": [],
   "source": [
    "result = agent.process_audio(\"./data/huggingcast-s2e6.m4a\")"
   ]
  },
  {
   "cell_type": "code",
   "execution_count": null,
   "metadata": {},
   "outputs": [],
   "source": []
  },
  {
   "cell_type": "code",
   "execution_count": null,
   "metadata": {},
   "outputs": [],
   "source": []
  }
 ],
 "metadata": {
  "kernelspec": {
   "display_name": "gs",
   "language": "python",
   "name": "python3"
  },
  "language_info": {
   "codemirror_mode": {
    "name": "ipython",
    "version": 3
   },
   "file_extension": ".py",
   "mimetype": "text/x-python",
   "name": "python",
   "nbconvert_exporter": "python",
   "pygments_lexer": "ipython3",
   "version": "3.9.0"
  }
 },
 "nbformat": 4,
 "nbformat_minor": 2
}
